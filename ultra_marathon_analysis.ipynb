{
 "cells": [
  {
   "cell_type": "markdown",
   "id": "de609371-47d1-44c7-9f0e-c9eba038392b",
   "metadata": {},
   "source": [
    "## 📦 Importing Required Libraries"
   ]
  },
  {
   "cell_type": "code",
   "execution_count": null,
   "id": "022a0f09-7091-4383-bab6-5b6690483dbc",
   "metadata": {},
   "outputs": [],
   "source": [
    "# Data cleaning and analysis using pandas\n",
    "import pandas as pd\n",
    "# Plotting using seaborn\n",
    "import seaborn as sns"
   ]
  },
  {
   "cell_type": "markdown",
   "id": "8e518cfc-6e4a-4dc1-8023-97446760aca2",
   "metadata": {},
   "source": [
    "## Reading .csv data into the Dataframe"
   ]
  },
  {
   "cell_type": "code",
   "execution_count": null,
   "id": "0d881cff-e319-4e0d-9cab-3cbfdb4546ae",
   "metadata": {},
   "outputs": [],
   "source": [
    "# Load the ultra marathon dataset from the CSV file\n",
    "df = pd.read_csv(\"TWO_CENTURIES_OF_UM_RACES.csv\", low_memory=False)"
   ]
  },
  {
   "cell_type": "markdown",
   "id": "eef08a55-ddca-4bbb-a881-ef33b375b6c5",
   "metadata": {},
   "source": [
    "## Inspecting the Data"
   ]
  },
  {
   "cell_type": "code",
   "execution_count": null,
   "id": "b9908e61-23af-41a9-b9cb-624bbf12aa16",
   "metadata": {},
   "outputs": [],
   "source": [
    "# Display the first 10 rows of the DataFrame to get an initial look at the dataset\n",
    "df.head(10)"
   ]
  },
  {
   "cell_type": "code",
   "execution_count": null,
   "id": "fce0622d-3abb-410f-b5f9-0b7003a12ba1",
   "metadata": {},
   "outputs": [],
   "source": [
    "# Check the number of rows and columns in the DataFrame\n",
    "df.shape"
   ]
  },
  {
   "cell_type": "code",
   "execution_count": null,
   "id": "c45c8a29-29ec-487a-9c99-eeb4e2c79318",
   "metadata": {},
   "outputs": [],
   "source": [
    "# Display the data types of each column to understand the structure of the dataset\n",
    "df.dtypes"
   ]
  },
  {
   "cell_type": "markdown",
   "id": "ddbde5dc-f405-4143-8498-83dceb9a3056",
   "metadata": {},
   "source": [
    "## 🔍 Data Filtering Criteria\r\n",
    "\r\n",
    "The dataset was filtered using the following criteria:\r\n",
    "\r\n",
    "- **Event Distance/Length:**\r\n",
    "  - 50 km\r\n",
    "  - 50 miles\r\n",
    "\r\n",
    "- **Year of Event:**  \r\n",
    "  - 2020\r\n",
    "\r\n",
    "- **Event Location:**  \r\n",
    "  - Country: USA\r\n"
   ]
  },
  {
   "cell_type": "code",
   "execution_count": null,
   "id": "11134aec-0412-48fb-98fc-a0228901ccc5",
   "metadata": {},
   "outputs": [],
   "source": [
    "# Filter the dataset to include only events with a distance of 50 kilometers\n",
    "df[df[\"Event distance/length\"] == '50K']"
   ]
  },
  {
   "cell_type": "code",
   "execution_count": null,
   "id": "e27d027b-7464-4896-9a6b-7ab7a74af1b7",
   "metadata": {},
   "outputs": [],
   "source": [
    "# Replace the value '50K' with '50km' for consistency in the 'Event distance/length' column\n",
    "df['Event distance/length'] = df['Event distance/length'].replace({'50K': '50km'})"
   ]
  },
  {
   "cell_type": "code",
   "execution_count": null,
   "id": "cfdb1de0-e71b-4adc-bf73-6e9a2ce5591d",
   "metadata": {},
   "outputs": [],
   "source": [
    "# Filter the DataFrame to include:\n",
    "# - Events with a distance of either 50km or 50mi\n",
    "# - Events that occurred in the year 2020\n",
    "# - Events that took place in the USA (identified by '(USA)' in the event name)\n",
    "df[(df[\"Event distance/length\"].isin(['50km','50mi'])) & (df['Year of event'] == 2020) & (df['Event name'].str.contains(r'\\(USA\\)', regex=True, case=False))]"
   ]
  },
  {
   "cell_type": "markdown",
   "id": "cfc0c998-ccc1-4902-99a6-98c74a1d2ee2",
   "metadata": {},
   "source": [
    "## 🗃️ Creating a Filtered Dataset\r\n",
    "\r\n",
    "We create a new DataFrame `df2` that contains only the ultra marathon events that meet the following criteria:\r\n",
    "- Distance is either **50km**, **50K**, or **50mi**\r\n",
    "- Event took place in the year **2020**\r\n",
    "- Event location is in the **USA** (identified by \"(USA)\" in the event ame)\r\n"
   ]
  },
  {
   "cell_type": "code",
   "execution_count": null,
   "id": "1e4cdb1e-3d5b-42a4-9a5e-9a4a55ef9284",
   "metadata": {},
   "outputs": [],
   "source": [
    "# Create a new DataFrame (df2) by filtering the original dataset based on:\n",
    "# 1. Event distance being either '50km', '50K', or '50mi'\n",
    "# 2. Year of the event being 2020\n",
    "# 3. Event name containing '(USA)', indicating events held in the United States\n",
    "df2 = df[\n",
    "    (df[\"Event distance/length\"].isin(['50km', '50K', '50mi'])) &\n",
    "    (df['Year of event'] == 2020) &\n",
    "    (df['Event name'].str.contains(r'\\(USA\\)', regex=True, case=False))\n",
    "]"
   ]
  },
  {
   "cell_type": "code",
   "execution_count": null,
   "id": "9be5d357-e9fa-4ff3-b5ab-35a12fc86821",
   "metadata": {},
   "outputs": [],
   "source": [
    "# Display the first 10 rows of the filtered DataFrame to verify the applied filters\n",
    "df2.head(10)"
   ]
  },
  {
   "cell_type": "code",
   "execution_count": null,
   "id": "c2ab8138-64d9-44ef-bcf7-2a1006228b10",
   "metadata": {},
   "outputs": [],
   "source": [
    "# Check the number of rows and columns in the filtered DataFrame\n",
    "df2.shape"
   ]
  },
  {
   "cell_type": "markdown",
   "id": "995439b9-7e39-4dd0-a2f2-f789ab40c0b2",
   "metadata": {},
   "source": [
    "## ✂️ Cleaning Event Names\r\n",
    "\r\n",
    "Since we've already filtered the dataset to include only events from the USA in 2020, we can simplify the `Event name` column by removing the redundant \"(USA)\" tag. We'll keep only the main event name.\r\n"
   ]
  },
  {
   "cell_type": "code",
   "execution_count": null,
   "id": "a24ee877-74a1-48ec-9778-f7251a738b9f",
   "metadata": {},
   "outputs": [],
   "source": [
    "# Remove the '(USA)' part from the event name by splitting at the parenthesis and keeping only the first part\n",
    "df2['Event name'] = df2['Event name'].str.split('(').str.get(0)"
   ]
  },
  {
   "cell_type": "markdown",
   "id": "fe3a2969-d29c-43a2-b501-fa473095cd56",
   "metadata": {},
   "source": [
    "## 🎯 Calculating Athlete Age\r\n",
    "\r\n",
    "We calculate the age of each athlete by subtracting their year of birth from the event year (2020). This gives us a new column `athlete_age` which will be useful for age-based analysis.\r\n"
   ]
  },
  {
   "cell_type": "code",
   "execution_count": null,
   "id": "f56b686f-a42e-40a5-9e80-0aef7c872fea",
   "metadata": {},
   "outputs": [],
   "source": [
    "# Calculate the athlete's age based on the event year (2020) and store it in a new column\n",
    "df2['athlete_age'] = 2020 - df2['Athlete year of birth']"
   ]
  },
  {
   "cell_type": "code",
   "execution_count": null,
   "id": "caf18feb-9944-4a1c-8c15-2cde42e3ddd1",
   "metadata": {},
   "outputs": [],
   "source": [
    "# Displaying the Athlete Ages\n",
    "df2['athlete_age']"
   ]
  },
  {
   "cell_type": "markdown",
   "id": "75d4de0d-8d26-4b04-8658-d2a5cfb34a0e",
   "metadata": {},
   "source": [
    "## 🧹 Cleaning Athlete Performance Data\r\n",
    "\r\n",
    "The `Athlete performance` column contains time values followed by a unit (e.g., \"5:34:21 h\").  \r\n",
    "Since the unit \"h\" (hours) is consistent and unnecessary for numerical analysis, we remove it and retain only the time string.\r\n"
   ]
  },
  {
   "cell_type": "code",
   "execution_count": null,
   "id": "cdfce114-918a-40c7-86cb-3180ec32a4ab",
   "metadata": {},
   "outputs": [],
   "source": [
    "# Remove the 'h' unit from the 'Athlete performance' column by splitting on space and keeping only the time part\n",
    "df2['Athlete performance'] = df2['Athlete performance'].str.split(' ').str.get(0)"
   ]
  },
  {
   "cell_type": "code",
   "execution_count": null,
   "id": "2a972093-33d0-44ab-8852-a55850524a7e",
   "metadata": {},
   "outputs": [],
   "source": [
    "df2.head()"
   ]
  },
  {
   "cell_type": "markdown",
   "id": "455ff2e9-47cc-4f95-8a4e-c4a1718ec053",
   "metadata": {},
   "source": [
    "## Dropping Unnecessary Columns\r\n",
    "\r\n",
    "The following columns will be removed from the dataset as they are not needed for the analysis:\r\n",
    "\r\n",
    "- **Athlete Club**\r\n",
    "- **Athlete Country**\r\n",
    "- **Athlete Year of Birth**\r\n",
    "- **Athlete Age Category**\r\n"
   ]
  },
  {
   "cell_type": "code",
   "execution_count": null,
   "id": "09246882-e49f-4cc4-a457-f4a52113f150",
   "metadata": {},
   "outputs": [],
   "source": [
    "df2 = df2.drop(['Athlete club','Athlete country','Athlete year of birth','Athlete age category'], axis = 1)"
   ]
  },
  {
   "cell_type": "code",
   "execution_count": null,
   "id": "a4cc7cf9-6947-4685-a201-d485e1d57268",
   "metadata": {},
   "outputs": [],
   "source": [
    "df2.head(5)"
   ]
  },
  {
   "cell_type": "markdown",
   "id": "fda984da-0341-496e-9636-068008c5eda6",
   "metadata": {},
   "source": [
    "## Cleaning Null Values"
   ]
  },
  {
   "cell_type": "code",
   "execution_count": null,
   "id": "886ea99e-2895-49f4-826d-d2af5584c687",
   "metadata": {},
   "outputs": [],
   "source": [
    "# Check the total number of null values in each column of the dataset\n",
    "df2.isna().sum()"
   ]
  },
  {
   "cell_type": "code",
   "execution_count": null,
   "id": "184eada3-229e-4a0c-b5bb-7084b3a1d50b",
   "metadata": {},
   "outputs": [],
   "source": [
    "# Inspect rows where the 'athlete_age' column has null values\n",
    "df2[df2['athlete_age'].isna()]"
   ]
  },
  {
   "cell_type": "code",
   "execution_count": null,
   "id": "02985679-d9b5-4717-a15d-0d29d6e5bb08",
   "metadata": {},
   "outputs": [],
   "source": [
    "# Inspect rows where the 'athlete_age' column has null values\n",
    "df2 = df2.dropna()"
   ]
  },
  {
   "cell_type": "code",
   "execution_count": null,
   "id": "55612257-fc48-47f9-9831-6f0ec7d08e44",
   "metadata": {},
   "outputs": [],
   "source": [
    "df2.shape"
   ]
  },
  {
   "cell_type": "markdown",
   "id": "ba69cfe9-09ad-4b6d-a9fd-e273e61048bf",
   "metadata": {},
   "source": [
    "## Check for Duplicate Values"
   ]
  },
  {
   "cell_type": "code",
   "execution_count": null,
   "id": "035c3b59-64cc-4c1d-8414-ccf4e2a7c938",
   "metadata": {},
   "outputs": [],
   "source": [
    "# Identify and display rows that have duplicate values in the dataset\n",
    "df2[df2.duplicated() == True]"
   ]
  },
  {
   "cell_type": "code",
   "execution_count": null,
   "id": "ce47a50d-7485-4baa-a181-5f00d294e15b",
   "metadata": {},
   "outputs": [],
   "source": [
    "# Check the data types of each column in the dataset\n",
    "df2.dtypes"
   ]
  },
  {
   "cell_type": "code",
   "execution_count": null,
   "id": "7d55a59c-7474-4d6a-a190-3f03ed7b95d5",
   "metadata": {},
   "outputs": [],
   "source": [
    "# Convert the 'athlete_age' column to integer type\n",
    "df2[\"athlete_age\"] = df2[\"athlete_age\"].astype(int)\n",
    "# Convert the 'Athlete average speed' column to float type\n",
    "df2[\"Athlete average speed\"] = df2[\"Athlete average speed\"].astype(float)"
   ]
  },
  {
   "cell_type": "code",
   "execution_count": null,
   "id": "87a47d5b-c0f3-467a-8d48-e7af24a0464b",
   "metadata": {},
   "outputs": [],
   "source": [
    "# Check the updated data types of each column in the dataset\n",
    "df2.dtypes"
   ]
  },
  {
   "cell_type": "markdown",
   "id": "77e37da0-4bdd-49a4-8574-1d77ab9f636e",
   "metadata": {},
   "source": [
    "## Renaming Columns for Better Readability\r\n"
   ]
  },
  {
   "cell_type": "code",
   "execution_count": null,
   "id": "aa293a59-2556-4c85-b28a-50d09e79b4a4",
   "metadata": {},
   "outputs": [],
   "source": [
    "df2 = df2.rename(columns = {\n",
    "    'Year of event':'year',\n",
    "    'Event dates':'race_day',\n",
    "    'Event name':'race_name',\n",
    "    'Event distance/length':'race_length',\n",
    "    'Event number of finishers':'race_number_of_finishers',\n",
    "    'Athlete performance':'athlete_performance',\n",
    "    'Athlete gender':'athlete_gender',\n",
    "    'Athlete average speed':'athlete_average_speed',\n",
    "    'Athlete ID':'athlete_id',\n",
    "    'athlete_age':'athlete_age'\n",
    "})"
   ]
  },
  {
   "cell_type": "code",
   "execution_count": null,
   "id": "940e31d0-684b-4b1e-8396-8fed231509b3",
   "metadata": {},
   "outputs": [],
   "source": [
    "df2.head()"
   ]
  },
  {
   "cell_type": "markdown",
   "id": "f9fa47c1-6530-4442-83c3-12946fd1a9ce",
   "metadata": {},
   "source": [
    "## Reordering Columns\r\n",
    "\r\n",
    "The columns are reordered to ensure a logical structure for analysis:"
   ]
  },
  {
   "cell_type": "code",
   "execution_count": null,
   "id": "dd85875d-2e7b-4d24-a727-d1ab1795a4b7",
   "metadata": {},
   "outputs": [],
   "source": [
    "# Reorder columns in the dataset to a more logical and readable sequence\n",
    "df3 = df2[['race_day', 'race_name', 'race_length', 'race_number_of_finishers', 'athlete_id', 'athlete_gender', 'athlete_age', 'athlete_performance', 'athlete_average_speed']]"
   ]
  },
  {
   "cell_type": "code",
   "execution_count": null,
   "id": "ab1546f3-b5ad-4741-a609-7bc3da245638",
   "metadata": {},
   "outputs": [],
   "source": [
    "# Reorder columns in the dataset to a more logical and readable sequence\n",
    "df3 = df3.reset_index(drop = True)"
   ]
  },
  {
   "cell_type": "code",
   "execution_count": null,
   "id": "07a6d0c9-4baf-4430-9bee-36cea26fb797",
   "metadata": {},
   "outputs": [],
   "source": [
    "# Displaying the DataFrame with the new logical and readable sequence of columns\n",
    "df3.head()"
   ]
  },
  {
   "cell_type": "markdown",
   "id": "afea946f-4397-43f0-b0c1-e929ece2ebea",
   "metadata": {},
   "source": [
    "## Charts and Graphs\n"
   ]
  },
  {
   "cell_type": "code",
   "execution_count": null,
   "id": "236395b9-a4a1-4e1a-982c-0a6f90aae872",
   "metadata": {},
   "outputs": [],
   "source": [
    "# Plotting a Histogram of Race Length\n",
    "sns.histplot(df3['race_length'])"
   ]
  },
  {
   "cell_type": "code",
   "execution_count": null,
   "id": "87d6a7ee-4c2b-4b83-afb3-dcc3d83f4f85",
   "metadata": {},
   "outputs": [],
   "source": [
    "# Plotting a Histogram of Race Length with Gender Hue\n",
    "sns.histplot(df3, x = 'race_length', hue = 'athlete_gender')"
   ]
  },
  {
   "cell_type": "code",
   "execution_count": null,
   "id": "110877ba-f054-4375-9200-76ce1454c51a",
   "metadata": {},
   "outputs": [],
   "source": [
    "# Plotting a Distribution Plot for Athlete Average Speed (50mi Race)\n",
    "sns.displot(df3[df3['race_length'] == '50mi']['athlete_average_speed'])"
   ]
  },
  {
   "cell_type": "code",
   "execution_count": null,
   "id": "183d9cb4-6ecd-44bf-a137-7d2fe2e80017",
   "metadata": {},
   "outputs": [],
   "source": [
    "# Plotting a Violin Plot for Athlete Average Speed by Race Length and Gender\n",
    "sns.violinplot(df3, x = 'race_length', y = 'athlete_average_speed', hue = 'athlete_gender', split = True, inner = 'quart', linewidth = 1)"
   ]
  },
  {
   "cell_type": "code",
   "execution_count": null,
   "id": "a07c3318-c108-40d3-b0f7-f9d47a5f949d",
   "metadata": {},
   "outputs": [],
   "source": [
    "# Plotting a Linear Model Plot for Athlete Age vs. Average Speed by Gender\n",
    "sns.lmplot(df3, x = 'athlete_age', y = 'athlete_average_speed', hue='athlete_gender')"
   ]
  },
  {
   "cell_type": "markdown",
   "id": "010bf0be-ac1f-4374-b593-08dba1825e91",
   "metadata": {},
   "source": [
    "## Questions based on the Data"
   ]
  },
  {
   "cell_type": "code",
   "execution_count": null,
   "id": "460ae2bc-b738-46f2-87b7-23a128bd0250",
   "metadata": {},
   "outputs": [],
   "source": [
    "# What is the difference in average speed between male and female athletes for each race length (50k, 50mi)?\n",
    "df3.groupby(['race_length', 'athlete_gender'])['athlete_average_speed'].mean()"
   ]
  },
  {
   "cell_type": "code",
   "execution_count": null,
   "id": "91b5f2d6-9816-47d5-aa5a-65eb0a37326e",
   "metadata": {},
   "outputs": [],
   "source": [
    "# Which age groups have the highest average speed in the 50mi race, with at least 20 races? (Show the top 15 age groups)\n",
    "df3.query(\"race_length == '50mi'\").groupby('athlete_age')['athlete_average_speed'].agg(['mean', 'count']).sort_values('mean', ascending=False).query('count > 19').head(15)"
   ]
  },
  {
   "cell_type": "code",
   "execution_count": null,
   "id": "88052872-0ccd-4cc3-bbac-a93ae4b68ce7",
   "metadata": {},
   "outputs": [],
   "source": [
    "# Which age groups have the lowest average speed in the 50mi race, with at least 20 races? (Show the bottom 20 age groups)\n",
    "df3.query(\"race_length == '50mi'\").groupby('athlete_age')['athlete_average_speed'].agg(['mean', 'count']).sort_values('mean', ascending=True).query('count > 19').head(20)"
   ]
  },
  {
   "cell_type": "code",
   "execution_count": null,
   "id": "b34ff830-1364-4399-941b-eb429bbf8bf6",
   "metadata": {},
   "outputs": [],
   "source": [
    "# Does the data show that athletes are slower in the summer compared to winter?\n",
    "# The seasons are categorized as:\n",
    "# - Spring: March-May (months 3-5)\n",
    "# - Summer: June-August (months 6-8)\n",
    "# - Fall: September-November (months 9-11)\n",
    "# - Winter: December-February (months 12-2)\n",
    "# The race month is extracted, and the season is assigned based on the month."
   ]
  },
  {
   "cell_type": "code",
   "execution_count": null,
   "id": "8d7af5f2-2724-45a2-9f8d-20d6695884ec",
   "metadata": {},
   "outputs": [],
   "source": [
    "df3['race_month'] = df3['race_day'].str.strip('.').str.get(1).astype(int)\n",
    "\n",
    "df3['race_season'] = df3['race_month'].apply(lambda x: 'Winter' if x>11 else 'Fall' if x>8 else 'Summer' if x>5 else 'Spring' if x>2 else 'Winter')"
   ]
  },
  {
   "cell_type": "code",
   "execution_count": null,
   "id": "4c04333c-8eaa-4df3-ba05-781c7a05962d",
   "metadata": {},
   "outputs": [],
   "source": [
    "df3.head(25)"
   ]
  },
  {
   "cell_type": "code",
   "execution_count": null,
   "id": "5711b179-e008-4aef-8b24-da8357d349aa",
   "metadata": {},
   "outputs": [],
   "source": [
    "df3.groupby('race_season')['athlete_average_speed'].agg(['mean', 'count']).sort_values('mean', ascending = False)"
   ]
  },
  {
   "cell_type": "code",
   "execution_count": null,
   "id": "85715e6b-a120-4bad-87e1-374be1181714",
   "metadata": {},
   "outputs": [],
   "source": [
    "# What is the average speed for the 50mi race across different seasons?"
   ]
  },
  {
   "cell_type": "code",
   "execution_count": null,
   "id": "3c0dffcb-6ed0-4d02-ab95-7f5c5c874b46",
   "metadata": {},
   "outputs": [],
   "source": [
    "# This filters the data to only include the 50mi race and then groups it by season to calculate the mean speed for each season.\n",
    "df3.query('race_length == \"50mi\"').groupby('race_season')['athlete_average_speed'].agg(['mean', 'count']).sort_values('mean', ascending = False)"
   ]
  },
  {
   "cell_type": "markdown",
   "id": "278fff04-628e-4a1a-baf9-416a27901811",
   "metadata": {},
   "source": [
    "## 📌 Conclusion\n",
    "\n",
    "Through this exploratory data analysis of ultra marathon races spanning two centuries, we uncovered several key insights:\n",
    "- Participation in ultra marathons has grown significantly in recent years.\n",
    "- There is a noticeable difference in participation rates across genders and age groups.\n",
    "- Average finish times vary with distance, age, and gender.\n",
    "- Outliers in completion times highlight the incredible endurance of top athletes.\n",
    "\n",
    "These findings can help race organizers, athletes, and analysts better understand the evolution and demographics of ultra marathon running."
   ]
  }
 ],
 "metadata": {
  "kernelspec": {
   "display_name": "Python 3 (ipykernel)",
   "language": "python",
   "name": "python3"
  },
  "language_info": {
   "codemirror_mode": {
    "name": "ipython",
    "version": 3
   },
   "file_extension": ".py",
   "mimetype": "text/x-python",
   "name": "python",
   "nbconvert_exporter": "python",
   "pygments_lexer": "ipython3",
   "version": "3.12.4"
  }
 },
 "nbformat": 4,
 "nbformat_minor": 5
}
